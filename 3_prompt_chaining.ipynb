{
 "cells": [
  {
   "cell_type": "code",
   "execution_count": null,
   "id": "3d30295f",
   "metadata": {},
   "outputs": [
    {
     "data": {
      "text/plain": [
       "True"
      ]
     },
     "execution_count": 6,
     "metadata": {},
     "output_type": "execute_result"
    }
   ],
   "source": [
    "from langgraph.graph import StateGraph, START, END\n",
    "from langchain_huggingface import HuggingFaceEndpoint, ChatHuggingFace\n",
    "from typing import TypedDict\n",
    "from dotenv import load_dotenv\n",
    "import tqdm as notebook_tqdm\n",
    "from IPython.display import Markdown\n",
    "load_dotenv()"
   ]
  },
  {
   "cell_type": "code",
   "execution_count": 7,
   "id": "5c9768cd",
   "metadata": {},
   "outputs": [],
   "source": [
    "llm = HuggingFaceEndpoint(\n",
    "    repo_id=\"google/gemma-2-2b-it\",\n",
    "    task=\"text-generation\"\n",
    ")\n",
    "model = ChatHuggingFace(llm=llm)"
   ]
  },
  {
   "cell_type": "code",
   "execution_count": 8,
   "id": "38830aa0",
   "metadata": {},
   "outputs": [],
   "source": [
    "class BlogState(TypedDict):\n",
    "\n",
    "    title: str\n",
    "    outline: str\n",
    "    content: str"
   ]
  },
  {
   "cell_type": "code",
   "execution_count": 9,
   "id": "29db585f",
   "metadata": {},
   "outputs": [],
   "source": [
    "def create_outline(state: BlogState) -> BlogState:\n",
    "\n",
    "    # fetch title\n",
    "    title = state['title']\n",
    "\n",
    "    # call llm gen outline\n",
    "    prompt = f'Generate a detailed outline for a blog on the topic - {title}'\n",
    "    outline = model.invoke(prompt).content\n",
    "\n",
    "    # update state\n",
    "    state['outline'] = outline\n",
    "\n",
    "    return state"
   ]
  },
  {
   "cell_type": "code",
   "execution_count": 10,
   "id": "6b0ded2f",
   "metadata": {},
   "outputs": [],
   "source": [
    "def create_blog(state: BlogState) -> BlogState:\n",
    "\n",
    "    title = state['title']\n",
    "    outline = state['outline']\n",
    "\n",
    "    prompt = f'Write a detailed blog on title = {title} using the following outline \\n {outline}'\n",
    "\n",
    "    blog = model.invoke(prompt).content\n",
    "\n",
    "    state['blog'] = blog\n",
    "\n",
    "    return state"
   ]
  },
  {
   "cell_type": "code",
   "execution_count": 11,
   "id": "fc5541da",
   "metadata": {},
   "outputs": [],
   "source": [
    "graph = StateGraph(BlogState)\n",
    "\n",
    "# nodes \n",
    "graph.add_node('create_outline', create_outline)\n",
    "graph.add_node('create_blog', create_blog)\n",
    "\n",
    "# add edges\n",
    "graph.add_edge(START, 'create_outline')\n",
    "graph.add_edge('create_outline', 'create_blog')\n",
    "graph.add_edge('create_blog', END)\n",
    "\n",
    "workflow = graph.compile()"
   ]
  },
  {
   "cell_type": "code",
   "execution_count": 12,
   "id": "c90bd72a",
   "metadata": {},
   "outputs": [],
   "source": [
    "initial_state = {'title': 'Rise of AI in india'}\n",
    "\n",
    "final_stae = workflow.invoke(initial_state)"
   ]
  },
  {
   "cell_type": "code",
   "execution_count": 13,
   "id": "8626f296",
   "metadata": {},
   "outputs": [
    {
     "data": {
      "text/plain": [
       "{'title': 'Rise of AI in india',\n",
       " 'outline': \"##  The Rise of AI in India: A Detailed Blog Outline\\n\\n**I. Introduction**\\n    * **Hook:** Start with a striking statistic, anecdote, or statement highlighting AI's growing importance globally, especially in India.  \\n    * **Context:** Briefly introduce the landscape of AI in India, mentioning early adoption, key players, and potential challenges. \\n    * **Thesis Statement:** Clearly state the focus of your blog post:  Examining the reasons behind India's rise in AI, its current status, and its future potential.\\n\\n**II. Reasons for India's AI Surge**\\n    * **Government Initiatives:**\\n        * National AI Roadmap \\n        * Artificial Intelligence (AI) Initiative for Digital India\\n        * Policy focus on developing advanced AI technologies and AI-driven applications\\n        * Grants, subsidies, and funding opportunities for AI startups \\n    * **Indian Talent Pool:**  \\n        * Abundance of skilled tech professionals\\n        * Strong growth in STEM education and universities with robust Research and Development\\n    * **Investment Surge:**\\n        * Venture capital funding for AI startups\\n        * Increased interest from multi-national companies setting up shop\\n        * Significant foreign investment in AI infrastructure\\n    * **Domestic Demand and Industry Needs:**\\n        * Focus on optimizing existing industries through AI applications, such as healthcare, logistics, and retail.\\n        * Electricity, Finance, Smart agriculture, and Transportation sectors becoming prime areas for AI implementation. \\n\\n\\n**III. Current State of AI in India**\\n    * **Key Sectors:**\\n        * **Healthcare:** AI-powered diagnostics, personalized medicine, robotic surgeries.\\n        * **Finance:** Fraud detection, risk assessment, algorithmic trading.\\n        * **Agriculture:** Precision farming, crop yield forecasting.\\n        * **Education:** Personalized learning, online tutoring.\\n        * **E-commerce and retail:** Shopping assistants, product recommendations, supply chain optimization.\\n        * **Manufacturing:** Automation, predictive maintenance.\\n    * **Innovative AI startups:**\\n        * Describe a few prominent Indian AI companies and their initiatives. \\n        * Highlight any examples of success stories or significant breakthroughs in Indian AI.\\n    * **Research and Development:**  \\n        * Mention some research labs and universities at the forefront of AI development in India.\\n        * Discuss the efforts of government organizations such as IITs and other research centers to expand their AI capabilities. \\n            * Emphasize collaborative projects, conferences, and international collaborations.\\n\\n\\n**IV. Challenges and Opportunities**\\n    * **Ethical Concerns:** \\n        * Explain issues like bias in algorithms, data privacy, and the potential for job displacement from automation.\\n        * Suggest solutions and discuss how ethical development principles can be incorporated into AI projects by Indian companies and institutions.  \\n    * **Infrastructure and Data:** \\n        *  Analyze the need for strong internet connectivity and access to large data sets to drive AI solutions. \\n        *   Discuss how the government and private sector are investing in infrastructure to mitigate this issue.  \\n    * **Talent Gap:**\\n        * Outline the need for ongoing upskilling and training of AI professionals to stay competitive.\\n        * Mention initiatives like boot camps, coding competitions, and master's programs to address this critical need. \\n\\n**V. Future Prospects**\\n    * **The Role of AI in National Development:**\\n        * Discuss how AI can contribute to economic growth, job creation, poverty alleviation, and national well-being. \\n    * **Emerging Trends:** \\n        *  Explore the potential of AI in areas like quantum computing and deep learning in India.\\n        * Highlight the growing role of Big Data, Internet of Things (IoT), and cybersecurity in India's AI landscape.  \\n    * **Potential Global Impact:** \\n        * Discuss how Indian AI developments could contribute to technology advancements and sustainable solutions in the global landscape.\\n\\n\\n**VI. Conclusion**\\n    *  Restate the thesis in a memorable and engaging way.\\n    *  Leave the audience with a positive outlook on India's AI journey, outlining potential limitations but emphasizing the overall potential of these advancements.\\n    *  Call to action: Encourage readers to learn more, visit specific online resources, or engage in the discussion around AI development in India.\\n\\n\\n **VII. Resources and Further Reading**\\n    *  Include links to government websites, influential research organizations, startup communities, and news publications. \\n\\n\\nThis detailed outline provides a comprehensive coverage of the rise of AI in India. Each section is designed to be nuanced and informative, presented in an engaging and audience-friendly manner. \\n\"}"
      ]
     },
     "execution_count": 13,
     "metadata": {},
     "output_type": "execute_result"
    }
   ],
   "source": [
    "final_stae"
   ]
  },
  {
   "cell_type": "code",
   "execution_count": 19,
   "id": "c04de35e",
   "metadata": {},
   "outputs": [
    {
     "data": {
      "text/markdown": [
       "##  The Rise of AI in India: A Detailed Blog Outline\n",
       "\n",
       "**I. Introduction**\n",
       "    * **Hook:** Start with a striking statistic, anecdote, or statement highlighting AI's growing importance globally, especially in India.  \n",
       "    * **Context:** Briefly introduce the landscape of AI in India, mentioning early adoption, key players, and potential challenges. \n",
       "    * **Thesis Statement:** Clearly state the focus of your blog post:  Examining the reasons behind India's rise in AI, its current status, and its future potential.\n",
       "\n",
       "**II. Reasons for India's AI Surge**\n",
       "    * **Government Initiatives:**\n",
       "        * National AI Roadmap \n",
       "        * Artificial Intelligence (AI) Initiative for Digital India\n",
       "        * Policy focus on developing advanced AI technologies and AI-driven applications\n",
       "        * Grants, subsidies, and funding opportunities for AI startups \n",
       "    * **Indian Talent Pool:**  \n",
       "        * Abundance of skilled tech professionals\n",
       "        * Strong growth in STEM education and universities with robust Research and Development\n",
       "    * **Investment Surge:**\n",
       "        * Venture capital funding for AI startups\n",
       "        * Increased interest from multi-national companies setting up shop\n",
       "        * Significant foreign investment in AI infrastructure\n",
       "    * **Domestic Demand and Industry Needs:**\n",
       "        * Focus on optimizing existing industries through AI applications, such as healthcare, logistics, and retail.\n",
       "        * Electricity, Finance, Smart agriculture, and Transportation sectors becoming prime areas for AI implementation. \n",
       "\n",
       "\n",
       "**III. Current State of AI in India**\n",
       "    * **Key Sectors:**\n",
       "        * **Healthcare:** AI-powered diagnostics, personalized medicine, robotic surgeries.\n",
       "        * **Finance:** Fraud detection, risk assessment, algorithmic trading.\n",
       "        * **Agriculture:** Precision farming, crop yield forecasting.\n",
       "        * **Education:** Personalized learning, online tutoring.\n",
       "        * **E-commerce and retail:** Shopping assistants, product recommendations, supply chain optimization.\n",
       "        * **Manufacturing:** Automation, predictive maintenance.\n",
       "    * **Innovative AI startups:**\n",
       "        * Describe a few prominent Indian AI companies and their initiatives. \n",
       "        * Highlight any examples of success stories or significant breakthroughs in Indian AI.\n",
       "    * **Research and Development:**  \n",
       "        * Mention some research labs and universities at the forefront of AI development in India.\n",
       "        * Discuss the efforts of government organizations such as IITs and other research centers to expand their AI capabilities. \n",
       "            * Emphasize collaborative projects, conferences, and international collaborations.\n",
       "\n",
       "\n",
       "**IV. Challenges and Opportunities**\n",
       "    * **Ethical Concerns:** \n",
       "        * Explain issues like bias in algorithms, data privacy, and the potential for job displacement from automation.\n",
       "        * Suggest solutions and discuss how ethical development principles can be incorporated into AI projects by Indian companies and institutions.  \n",
       "    * **Infrastructure and Data:** \n",
       "        *  Analyze the need for strong internet connectivity and access to large data sets to drive AI solutions. \n",
       "        *   Discuss how the government and private sector are investing in infrastructure to mitigate this issue.  \n",
       "    * **Talent Gap:**\n",
       "        * Outline the need for ongoing upskilling and training of AI professionals to stay competitive.\n",
       "        * Mention initiatives like boot camps, coding competitions, and master's programs to address this critical need. \n",
       "\n",
       "**V. Future Prospects**\n",
       "    * **The Role of AI in National Development:**\n",
       "        * Discuss how AI can contribute to economic growth, job creation, poverty alleviation, and national well-being. \n",
       "    * **Emerging Trends:** \n",
       "        *  Explore the potential of AI in areas like quantum computing and deep learning in India.\n",
       "        * Highlight the growing role of Big Data, Internet of Things (IoT), and cybersecurity in India's AI landscape.  \n",
       "    * **Potential Global Impact:** \n",
       "        * Discuss how Indian AI developments could contribute to technology advancements and sustainable solutions in the global landscape.\n",
       "\n",
       "\n",
       "**VI. Conclusion**\n",
       "    *  Restate the thesis in a memorable and engaging way.\n",
       "    *  Leave the audience with a positive outlook on India's AI journey, outlining potential limitations but emphasizing the overall potential of these advancements.\n",
       "    *  Call to action: Encourage readers to learn more, visit specific online resources, or engage in the discussion around AI development in India.\n",
       "\n",
       "\n",
       " **VII. Resources and Further Reading**\n",
       "    *  Include links to government websites, influential research organizations, startup communities, and news publications. \n",
       "\n",
       "\n",
       "This detailed outline provides a comprehensive coverage of the rise of AI in India. Each section is designed to be nuanced and informative, presented in an engaging and audience-friendly manner. \n"
      ],
      "text/plain": [
       "<IPython.core.display.Markdown object>"
      ]
     },
     "execution_count": 19,
     "metadata": {},
     "output_type": "execute_result"
    }
   ],
   "source": [
    "Markdown(final_stae['outline'])"
   ]
  },
  {
   "cell_type": "code",
   "execution_count": null,
   "id": "3aae5803",
   "metadata": {},
   "outputs": [],
   "source": []
  }
 ],
 "metadata": {
  "kernelspec": {
   "display_name": ".venv",
   "language": "python",
   "name": "python3"
  },
  "language_info": {
   "codemirror_mode": {
    "name": "ipython",
    "version": 3
   },
   "file_extension": ".py",
   "mimetype": "text/x-python",
   "name": "python",
   "nbconvert_exporter": "python",
   "pygments_lexer": "ipython3",
   "version": "3.12.11"
  }
 },
 "nbformat": 4,
 "nbformat_minor": 5
}
