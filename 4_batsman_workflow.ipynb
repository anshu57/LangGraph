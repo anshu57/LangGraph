{
 "cells": [
  {
   "cell_type": "code",
   "execution_count": 1,
   "id": "4f052e4c",
   "metadata": {},
   "outputs": [
    {
     "data": {
      "text/plain": [
       "True"
      ]
     },
     "execution_count": 1,
     "metadata": {},
     "output_type": "execute_result"
    }
   ],
   "source": [
    "from langgraph.graph import StateGraph, START, END\n",
    "from langchain_huggingface import HuggingFaceEndpoint, ChatHuggingFace\n",
    "from typing import TypedDict\n",
    "from dotenv import load_dotenv\n",
    "import tqdm as notebook_tqdm\n",
    "from IPython.display import Markdown\n",
    "load_dotenv()"
   ]
  },
  {
   "cell_type": "code",
   "execution_count": 26,
   "id": "a9b8afbf",
   "metadata": {},
   "outputs": [],
   "source": [
    "class BatsmanState(TypedDict):\n",
    "\n",
    "    runs: int\n",
    "    balls: int\n",
    "    fours: int\n",
    "    sixes: int\n",
    "    \n",
    "    sr: float\n",
    "    bpb: float\n",
    "    boundary_per: float\n",
    "    summary: str\n",
    "    "
   ]
  },
  {
   "cell_type": "code",
   "execution_count": 36,
   "id": "7f827f1d",
   "metadata": {},
   "outputs": [],
   "source": [
    "def cal_sr(state: BatsmanState) -> BatsmanState:\n",
    "    sr = 100 * state['runs']/state['balls']\n",
    "    \n",
    "\n",
    "    return {'sr':sr}"
   ]
  },
  {
   "cell_type": "code",
   "execution_count": 37,
   "id": "ecec129f",
   "metadata": {},
   "outputs": [],
   "source": [
    "def cal_bpb(state: BatsmanState) -> BatsmanState:\n",
    "\n",
    "    bpb = state['balls']/(state['fours'] + state['sixes'])\n",
    "\n",
    "\n",
    "    return {'bpb':bpb}"
   ]
  },
  {
   "cell_type": "code",
   "execution_count": 38,
   "id": "218894e2",
   "metadata": {},
   "outputs": [],
   "source": [
    "def cal_boundary_per(state: BatsmanState) -> BatsmanState:\n",
    "\n",
    "    boundary_per = 100 * ((state['fours'] * 4) + (state['sixes'] * 6))/state['runs']\n",
    "\n",
    "\n",
    "    return {'boundary_per': boundary_per}"
   ]
  },
  {
   "cell_type": "code",
   "execution_count": 50,
   "id": "1cb14e25",
   "metadata": {},
   "outputs": [],
   "source": [
    "def summary(state: BatsmanState) -> BatsmanState:\n",
    "\n",
    "    summary = f\"\"\"\n",
    "Strike Rate : {state['sr']}\\n\n",
    "Balls per boundary : {state['bpb']}\\n\n",
    "Boundary percent : {state['boundary_per']}\n",
    "\"\"\"\n",
    "    return {'summary':summary}"
   ]
  },
  {
   "cell_type": "code",
   "execution_count": 51,
   "id": "b40228d3",
   "metadata": {},
   "outputs": [],
   "source": [
    "graph = StateGraph(BatsmanState)"
   ]
  },
  {
   "cell_type": "code",
   "execution_count": 52,
   "id": "9a44da62",
   "metadata": {},
   "outputs": [
    {
     "data": {
      "text/plain": [
       "<langgraph.graph.state.StateGraph at 0x1188006b0>"
      ]
     },
     "execution_count": 52,
     "metadata": {},
     "output_type": "execute_result"
    }
   ],
   "source": [
    "graph.add_node('cal_sr', cal_sr)\n",
    "graph.add_node('cal_bpb', cal_bpb)\n",
    "graph.add_node('cal_boundary_per', cal_boundary_per)\n",
    "graph.add_node('summary', summary)\n"
   ]
  },
  {
   "cell_type": "code",
   "execution_count": 53,
   "id": "a62fc416",
   "metadata": {},
   "outputs": [],
   "source": [
    "# edges\n",
    "\n",
    "graph.add_edge(START, 'cal_sr')\n",
    "graph.add_edge(START, 'cal_bpb')\n",
    "graph.add_edge(START, 'cal_boundary_per')\n",
    "\n",
    "graph.add_edge('cal_sr', 'summary')\n",
    "graph.add_edge('cal_bpb', 'summary')\n",
    "graph.add_edge('cal_boundary_per', 'summary')\n",
    "\n",
    "graph.add_edge('summary', END)\n",
    "\n",
    "workflow = graph.compile()\n"
   ]
  },
  {
   "cell_type": "code",
   "execution_count": 54,
   "id": "643f2fab",
   "metadata": {},
   "outputs": [
    {
     "data": {
      "image/png": "[encoded data removed]",
      "text/plain": [
       "<langgraph.graph.state.CompiledStateGraph object at 0x118848920>"
      ]
     },
     "execution_count": 54,
     "metadata": {},
     "output_type": "execute_result"
    }
   ],
   "source": [
    "workflow"
   ]
  },
  {
   "cell_type": "code",
   "execution_count": 55,
   "id": "c78ece40",
   "metadata": {},
   "outputs": [],
   "source": [
    "initial_state = {\n",
    "    'runs':100,\n",
    "    'balls':50,\n",
    "    'fours':6,\n",
    "    'sixes':4\n",
    "}\n",
    "\n",
    "final_state = workflow.invoke(initial_state)"
   ]
  },
  {
   "cell_type": "code",
   "execution_count": 56,
   "id": "c356e704",
   "metadata": {},
   "outputs": [
    {
     "data": {
      "text/plain": [
       "{'runs': 100,\n",
       " 'balls': 50,\n",
       " 'fours': 6,\n",
       " 'sixes': 4,\n",
       " 'sr': 200.0,\n",
       " 'bpb': 5.0,\n",
       " 'boundary_per': 48.0,\n",
       " 'summary': '\\nStrike Rate : 200.0\\n\\nBalls per boundary : 5.0\\n\\nBoundary percent : 48.0\\n'}"
      ]
     },
     "execution_count": 56,
     "metadata": {},
     "output_type": "execute_result"
    }
   ],
   "source": [
    "final_state"
   ]
  },
  {
   "cell_type": "code",
   "execution_count": 59,
   "id": "f2d6c562",
   "metadata": {},
   "outputs": [
    {
     "data": {
      "text/markdown": [
       "\n",
       "Strike Rate : 200.0\n",
       "\n",
       "Balls per boundary : 5.0\n",
       "\n",
       "Boundary percent : 48.0\n"
      ],
      "text/plain": [
       "<IPython.core.display.Markdown object>"
      ]
     },
     "execution_count": 59,
     "metadata": {},
     "output_type": "execute_result"
    }
   ],
   "source": [
    "Markdown(final_state['summary'])"
   ]
  },
  {
   "cell_type": "code",
   "execution_count": null,
   "id": "7f697146",
   "metadata": {},
   "outputs": [],
   "source": []
  }
 ],
 "metadata": {
  "kernelspec": {
   "display_name": ".venv",
   "language": "python",
   "name": "python3"
  },
  "language_info": {
   "codemirror_mode": {
    "name": "ipython",
    "version": 3
   },
   "file_extension": ".py",
   "mimetype": "text/x-python",
   "name": "python",
   "nbconvert_exporter": "python",
   "pygments_lexer": "ipython3",
   "version": "3.12.11"
  }
 },
 "nbformat": 4,
 "nbformat_minor": 5
}
